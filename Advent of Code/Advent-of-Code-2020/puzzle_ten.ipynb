{
 "cells": [
  {
   "cell_type": "code",
   "execution_count": 14,
   "metadata": {},
   "outputs": [
    {
     "data": {
      "text/plain": [
       "1"
      ]
     },
     "execution_count": 14,
     "metadata": {},
     "output_type": "execute_result"
    }
   ],
   "source": [
    "filename = 'puzzle_ten.txt'\n",
    "with open(filename) as f:\n",
    "    data = f.readlines()\n",
    "for counter in range(len(data)):\n",
    "    data[counter] = int(data[counter].rstrip('\\n'))\n",
    "built_in_adapter = max(data) + 3"
   ]
  },
  {
   "cell_type": "code",
   "execution_count": 12,
   "metadata": {},
   "outputs": [
    {
     "name": "stdout",
     "output_type": "stream",
     "text": [
      "[1, 4, 5, 6, 7, 10, 11, 12, 15, 16, 19]\n",
      "1 jolt difference: 7\n",
      "2 jolt difference: 0\n",
      "3 jolt difference: 5\n"
     ]
    }
   ],
   "source": [
    "test_data = [16, 10, 15, 5, 1, 11, 7, 19, 6, 12, 4]\n",
    "test_built_in = max(test_data) + 3\n",
    "\n",
    "test_data.sort()\n",
    "print(test_data)\n",
    "test_diff_1 = 1 # Adapter to outlet\n",
    "test_diff_2 = 0\n",
    "test_diff_3 = 1 # Adapter to phone\n",
    "\n",
    "for counter in range(len(test_data)):\n",
    "    if counter + 1 == len(test_data):\n",
    "        continue\n",
    "    else:\n",
    "        difference = test_data[counter + 1] - test_data[counter]\n",
    "        if difference == 1:\n",
    "            test_diff_1 += 1\n",
    "        if difference == 2:\n",
    "            test_diff_2 += 1\n",
    "        if difference == 3:\n",
    "            test_diff_3 += 1\n",
    "\n",
    "print(f'1 jolt difference: {test_diff_1}')\n",
    "print(f'2 jolt difference: {test_diff_2}')\n",
    "print(f'3 jolt difference: {test_diff_3}')\n"
   ]
  },
  {
   "cell_type": "code",
   "execution_count": 21,
   "metadata": {},
   "outputs": [
    {
     "name": "stdout",
     "output_type": "stream",
     "text": [
      "[1, 2, 3, 4, 7, 8, 9, 10, 13, 16, 17, 18, 19, 22, 23, 24, 25, 26, 29, 30, 31, 32, 33, 36, 37, 38, 41, 42, 43, 44, 47, 50, 51, 52, 53, 56, 57, 58, 61, 64, 65, 66, 69, 70, 71, 72, 75, 76, 77, 80, 81, 82, 83, 84, 87, 88, 89, 90, 93, 96, 97, 98, 99, 100, 103, 104, 105, 108, 111, 114, 115, 118, 121, 122, 123, 124, 127, 128, 129, 130, 131, 134, 137, 138, 139, 140, 143, 146, 149, 150, 151, 152, 155, 156, 157, 160, 161, 164, 165, 166, 167, 168, 171, 172, 173, 174, 177, 180, 181, 182, 183, 184]\n",
      "1 jolt difference: 76\n",
      "2 jolt difference: 0\n",
      "3 jolt difference: 37\n",
      "The problem answer is 2812\n"
     ]
    }
   ],
   "source": [
    "data.sort()\n",
    "print(data)\n",
    "diff_1 = 1 # Wall to adapter\n",
    "diff_2 = 0\n",
    "diff_3 = 1 # Final Adapter to phone\n",
    "\n",
    "for counter in range(len(data)):\n",
    "    if counter + 1 == len(data):\n",
    "        continue\n",
    "    else:\n",
    "        difference = data[counter + 1] - data[counter]\n",
    "        if difference == 1:\n",
    "            diff_1 += 1\n",
    "        if difference == 2:\n",
    "            diff_2 += 1\n",
    "        if difference == 3:\n",
    "            diff_3 += 1\n",
    "            \n",
    "print(f'1 jolt difference: {diff_1}')\n",
    "print(f'2 jolt difference: {diff_2}')\n",
    "print(f'3 jolt difference: {diff_3}')\n",
    "answer = diff_1 * diff_3\n",
    "print(f'The problem answer is {answer}')        "
   ]
  },
  {
   "cell_type": "code",
   "execution_count": null,
   "metadata": {},
   "outputs": [],
   "source": []
  }
 ],
 "metadata": {
  "kernelspec": {
   "display_name": "Python 3",
   "language": "python",
   "name": "python3"
  },
  "language_info": {
   "codemirror_mode": {
    "name": "ipython",
    "version": 3
   },
   "file_extension": ".py",
   "mimetype": "text/x-python",
   "name": "python",
   "nbconvert_exporter": "python",
   "pygments_lexer": "ipython3",
   "version": "3.8.3"
  }
 },
 "nbformat": 4,
 "nbformat_minor": 4
}
