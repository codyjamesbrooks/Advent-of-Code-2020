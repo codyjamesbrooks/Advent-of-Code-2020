{
 "cells": [
  {
   "cell_type": "code",
   "execution_count": 1,
   "metadata": {},
   "outputs": [],
   "source": [
    "filename = 'puzzle_three.txt'\n",
    "with open(filename) as f:\n",
    "    data = f.readlines()\n",
    "    \n",
    "for counter in range(len(data)):\n",
    "    data[counter] = data[counter].rstrip('\\n')"
   ]
  },
  {
   "cell_type": "markdown",
   "metadata": {},
   "source": [
    "# Part One Solution"
   ]
  },
  {
   "cell_type": "code",
   "execution_count": 7,
   "metadata": {},
   "outputs": [],
   "source": [
    "def day_three_part_one(data: list) -> int:\n",
    "    x_pos, y_pos, tree_counter = 0, 0, 0\n",
    "    \n",
    "    while y_pos < len(data):\n",
    "        if data[y_pos][x_pos] == '#':\n",
    "            tree_counter += 1\n",
    "        x_pos += 3\n",
    "        y_pos += 1\n",
    "        if x_pos >= len(data[0]):\n",
    "            x_pos -= len(data[0])\n",
    "    return tree_counter    "
   ]
  },
  {
   "cell_type": "code",
   "execution_count": 11,
   "metadata": {},
   "outputs": [
    {
     "name": "stdout",
     "output_type": "stream",
     "text": [
      "The solution to part one is 247 trees.\n"
     ]
    }
   ],
   "source": [
    "print(f'The solution to part one is {day_three_part_one(data)} trees.')"
   ]
  },
  {
   "cell_type": "markdown",
   "metadata": {},
   "source": [
    "# Part Two Solution"
   ]
  },
  {
   "cell_type": "code",
   "execution_count": 12,
   "metadata": {},
   "outputs": [],
   "source": [
    "def day_three_part_two(data: list) -> int:\n",
    "    right_mvts = [1, 3, 5, 7, 1]\n",
    "    down_mvts = [1, 1, 1, 1, 2]\n",
    "    trees_hit = []\n",
    "    answer = 1\n",
    "    \n",
    "    for x, y in zip(right_mvts, down_mvts):\n",
    "        tree_counter = 0\n",
    "        x_pos, y_pos = 0, 0\n",
    "        while y_pos < len(data):\n",
    "            if data[y_pos][x_pos] == '#':\n",
    "                tree_counter += 1\n",
    "            x_pos += x\n",
    "            y_pos += y\n",
    "            if x_pos >= len(data[0]):\n",
    "                x_pos -= len(data[0])\n",
    "        trees_hit.append(tree_counter)\n",
    "    \n",
    "    for x in trees_hit:\n",
    "        answer *= x\n",
    "    return answer"
   ]
  },
  {
   "cell_type": "code",
   "execution_count": 13,
   "metadata": {},
   "outputs": [
    {
     "name": "stdout",
     "output_type": "stream",
     "text": [
      "The solution to part two is 2983070376.\n"
     ]
    }
   ],
   "source": [
    "print(f'The solution to part two is {day_three_part_two(data)}.')"
   ]
  }
 ],
 "metadata": {
  "kernelspec": {
   "display_name": "Python 3",
   "language": "python",
   "name": "python3"
  },
  "language_info": {
   "codemirror_mode": {
    "name": "ipython",
    "version": 3
   },
   "file_extension": ".py",
   "mimetype": "text/x-python",
   "name": "python",
   "nbconvert_exporter": "python",
   "pygments_lexer": "ipython3",
   "version": "3.8.3"
  }
 },
 "nbformat": 4,
 "nbformat_minor": 4
}
