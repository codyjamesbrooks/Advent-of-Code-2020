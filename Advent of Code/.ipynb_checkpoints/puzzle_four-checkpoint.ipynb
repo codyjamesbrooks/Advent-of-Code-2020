{
 "cells": [
  {
   "cell_type": "code",
   "execution_count": 15,
   "metadata": {},
   "outputs": [],
   "source": [
    "filename = 'puzzle_four.txt'\n",
    "with open(filename) as f:\n",
    "    data = f.readlines()\n",
    "    \n",
    "data = \"\".join(data).split('\\n\\n')\n",
    "for counter in range(len(data)):\n",
    "    data[counter] = data[counter].replace('\\n', ' ')"
   ]
  },
  {
   "cell_type": "markdown",
   "metadata": {},
   "source": [
    "# Part One Solution "
   ]
  },
  {
   "cell_type": "code",
   "execution_count": 26,
   "metadata": {},
   "outputs": [
    {
     "name": "stdout",
     "output_type": "stream",
     "text": [
      "The answer to part one is 213.\n"
     ]
    }
   ],
   "source": [
    "def puzzle_four_part_one(data: list) -> int:\n",
    "    valid_passengers = 0\n",
    "    good_pass = ['byr', 'iyr', 'eyr', 'hgt', 'hcl', 'ecl', 'pid']\n",
    "    all_fields = [] # To be used during part two\n",
    "    \n",
    "    for passenger in data:\n",
    "        passport_values = [x.split(':')[0] for x in passenger.split(' ')]\n",
    "        flag = True\n",
    "        for value in good_pass:\n",
    "            if value not in passport_values:\n",
    "                flag = False\n",
    "        if flag:\n",
    "            valid_passengers += 1\n",
    "            all_fields.append(passenger)\n",
    "            \n",
    "    \n",
    "    return valid_passengers, all_fields\n",
    "number_valid, all_fields = puzzle_four_part_one(data)\n",
    "print(f'The answer to part one is {number_valid}.')"
   ]
  },
  {
   "cell_type": "markdown",
   "metadata": {},
   "source": [
    "# Part Two Solution"
   ]
  },
  {
   "cell_type": "code",
   "execution_count": 53,
   "metadata": {},
   "outputs": [
    {
     "name": "stdout",
     "output_type": "stream",
     "text": [
      "The solution to part two is 147.\n"
     ]
    }
   ],
   "source": [
    "def puzzle_four_part_two(data: list) -> int:\n",
    "    all_valid = 0\n",
    "    \n",
    "    for passenger in data:\n",
    "        flag = True\n",
    "        for value in passenger.split(' '):\n",
    "            x = value.split(':')[0]\n",
    "            y = value.split(':')[1]\n",
    "            if x == 'byr': # Birth year must be between 1920 and 2002\n",
    "                if int(y)<1920 or int(y)>2002:\n",
    "                    flag = False\n",
    "            elif x == 'iyr': # Issue year must be between 2010 and 2020\n",
    "                if int(y)<2010 or int(y)>2020:\n",
    "                    flag = False\n",
    "            elif x == 'eyr': # Expiration year must be between 2020 and 2030\n",
    "                if int(y)<2020 or int(y)>2030:\n",
    "                    flag = False\n",
    "            elif x == 'hgt': # Height must be expressed in inches or cm and lie within parameters\n",
    "                if y[-2:] == 'cm' or y[-2:] == 'in':\n",
    "                    if y[-2:] == 'cm':\n",
    "                        if int(y[:-2])<150 or int(y[:-2])>193:\n",
    "                            flag = False\n",
    "                    if y[-2:] == 'in':\n",
    "                        if int(y[:-2])<59 or int(y[:-2])>76:\n",
    "                            flag = False                \n",
    "                else:\n",
    "                    flag = False\n",
    "            elif x == 'hcl': # Must be a lead with '#' followed by 6 chars in 0-9 or a-f\n",
    "                if y[0] == '#' or len(y[1:]) == 6:\n",
    "                    for char in y[1:]:\n",
    "                        if char not in ['0', '1', '2', '3', '4', '5', '6', '7', '8', '9', 'a', 'b', 'c', 'd', 'e', 'f']:\n",
    "                            flag = False\n",
    "                else:\n",
    "                    flag = False\n",
    "            elif x == 'ecl': # must be one of 7 different strings\n",
    "                if y not in ['amb', 'blu', 'brn', 'gry', 'grn', 'hzl', 'oth']:\n",
    "                    flag = False\n",
    "            elif x == 'pid': # must be exactly 9 chars in 0-9\n",
    "                if len(y) != 9:\n",
    "                    flag = False\n",
    "                    break\n",
    "                for char in y:\n",
    "                    if char not in ['0', '1', '2', '3' , '4', '5', '6', '7', '8', '9']:\n",
    "                        flag = False          \n",
    "        if flag:\n",
    "            all_valid += 1\n",
    "    return all_valid                      \n",
    "print(f'The solution to part two is {puzzle_four_part_two(all_fields)}.')"
   ]
  }
 ],
 "metadata": {
  "kernelspec": {
   "display_name": "Python 3",
   "language": "python",
   "name": "python3"
  },
  "language_info": {
   "codemirror_mode": {
    "name": "ipython",
    "version": 3
   },
   "file_extension": ".py",
   "mimetype": "text/x-python",
   "name": "python",
   "nbconvert_exporter": "python",
   "pygments_lexer": "ipython3",
   "version": "3.8.3"
  }
 },
 "nbformat": 4,
 "nbformat_minor": 4
}
