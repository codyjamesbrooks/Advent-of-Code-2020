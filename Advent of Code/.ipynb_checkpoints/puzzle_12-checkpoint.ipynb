{
 "cells": [
  {
   "cell_type": "code",
   "execution_count": 27,
   "metadata": {},
   "outputs": [],
   "source": [
    "filename = 'puzzle_12.txt'\n",
    "with open(filename) as f:\n",
    "    data = f.readlines()\n",
    "for counter in range(len(data)):\n",
    "    data[counter] = data[counter].rstrip('\\n')\n",
    "\n",
    "test_data = ['F10', 'N3', 'F7', 'R90', 'F11']"
   ]
  },
  {
   "cell_type": "code",
   "execution_count": 23,
   "metadata": {},
   "outputs": [],
   "source": [
    "def convert_RL(mvmt: str, curnt_facing='E') -> str:\n",
    "    # Given movement string, obtain direction ships travel\n",
    "    letter = mvmt[0]    \n",
    "    \n",
    "    if curnt_direction == 'N':\n",
    "        dir_int = 0\n",
    "    elif curnt_direction == 'E':\n",
    "        dir_int = 1\n",
    "    elif curnt_direction == 'S':\n",
    "        dir_int = 2\n",
    "    elif curnt_direction == 'W':\n",
    "        dir_int = 3\n",
    "    \n",
    "    if letter == 'R':\n",
    "        dir_int += int(mvmt[1:])/90\n",
    "        if dir_int >= 4:\n",
    "            dir_int -= 4\n",
    "    if letter == 'L':\n",
    "        dir_int -= int(mvmt[1:])/90\n",
    "        if dir_int < 0:\n",
    "            dir_int += 4\n",
    "            \n",
    "    elif dir_int == 0:\n",
    "        return 'N', 0\n",
    "    elif dir_int == 1:\n",
    "        return 'E', 0\n",
    "    elif dir_int == 2:\n",
    "        return 'S', 0\n",
    "    elif dir_int == 3:\n",
    "        return 'W', 0    "
   ]
  },
  {
   "cell_type": "markdown",
   "metadata": {},
   "source": [
    "\n",
    "# Part One Test"
   ]
  },
  {
   "cell_type": "code",
   "execution_count": 24,
   "metadata": {},
   "outputs": [
    {
     "name": "stdout",
     "output_type": "stream",
     "text": [
      "[10, 0]\n",
      "[10, 3]\n",
      "[17, 3]\n",
      "[17, 3]\n",
      "[17, -8]\n",
      "You have traveled 11 units East.\n",
      "You have traveled 11 units South.\n",
      "The answer to part 1 is 25.\n"
     ]
    }
   ],
   "source": [
    "position = [0, 0]\n",
    "rl = ['R', 'L']\n",
    "current_facing = 'E'\n",
    "\n",
    "for operation in test_data:\n",
    "    letter = operation[0]\n",
    "    number = int(operation[1:])\n",
    "     \n",
    "    # Convert 'R', 'L' into actual facing       \n",
    "    if letter in rl:\n",
    "        current_facing, number = convert_RLF(operation, current_facing)\n",
    "       \n",
    "    if letter == 'F':\n",
    "        letter = current_facing\n",
    "    \n",
    "    # Move the Ship\n",
    "    if letter == 'N':\n",
    "        position[1] += number\n",
    "    if letter == 'E':\n",
    "        position[0] += number\n",
    "    if letter == 'S':\n",
    "        position[1] -= number\n",
    "    if letter == 'W':\n",
    "        postion[0] -= number\n",
    "    \n",
    "    print(position)\n",
    "\n",
    "    \n",
    "if position[0] < 0:\n",
    "    print(f'You have traveled {number} units West.')\n",
    "elif position[0] == 0:\n",
    "    print('You have not changed your east/west postion.')\n",
    "else:\n",
    "    print(f'You have traveled {number} units East.')\n",
    "\n",
    "if position[1] < 0:\n",
    "    print(f'You have traveled {number} units South.')\n",
    "elif position[1] == 0:\n",
    "    print('You have not changed your north/south position.')\n",
    "else: \n",
    "    print(f'You have traveled {number} units North.')\n",
    "\n",
    "answer = abs(position[0]) + abs(position[1])\n",
    "print(f'The answer to part 1 is {answer}.')"
   ]
  },
  {
   "cell_type": "markdown",
   "metadata": {},
   "source": [
    "# Part One Actual"
   ]
  },
  {
   "cell_type": "code",
   "execution_count": 21,
   "metadata": {},
   "outputs": [
    {
     "name": "stdout",
     "output_type": "stream",
     "text": [
      "You have traveled 24 units East.\n",
      "You have traveled 415 units South.\n",
      "The answer to part 1 is 439.\n"
     ]
    }
   ],
   "source": [
    "position = [0, 0]\n",
    "rl = ['R', 'L']\n",
    "current_facing = 'E'\n",
    "\n",
    "for operation in data:\n",
    "    letter = operation[0]\n",
    "    number = int(operation[1:])\n",
    "     \n",
    "    # Convert 'R', 'L' into actual facing       \n",
    "    if letter in rl:\n",
    "        current_facing, number = convert_RLF(operation, current_facing)\n",
    "       \n",
    "    if letter == 'F':\n",
    "        letter = current_facing\n",
    "    \n",
    "    # Move the Ship\n",
    "    if letter == 'N':\n",
    "        position[1] += number\n",
    "    if letter == 'E':\n",
    "        position[0] += number\n",
    "    if letter == 'S':\n",
    "        position[1] -= number\n",
    "    if letter == 'W':\n",
    "        position[0] -= number\n",
    "    \n",
    "if position[0] < 0:\n",
    "    print(f'You have traveled {abs(position[0])} units West.')\n",
    "elif position[0] == 0:\n",
    "    print('You have not changed your east/west postion.')\n",
    "else:\n",
    "    print(f'You have traveled {abs(position[0])} units East.')\n",
    "\n",
    "if position[1] < 0:\n",
    "    print(f'You have traveled {abs(position[1])} units South.')\n",
    "elif position[1] == 0:\n",
    "    print('You have not changed your north/south position.')\n",
    "else: \n",
    "    print(f'You have traveled {abs(position[1])} units North.')\n",
    "\n",
    "answer = abs(position[0]) + abs(position[1])\n",
    "print(f'The answer to part 1 is {answer}.')"
   ]
  },
  {
   "cell_type": "code",
   "execution_count": 44,
   "metadata": {},
   "outputs": [],
   "source": [
    "def move_waypoint(mvmt: str, curnt_waypoint) -> str:\n",
    "    # Given movement string, obtain direction ships travel\n",
    "    letter = mvmt[0] \n",
    "    number = int(mvmt[1:])\n",
    "    \n",
    "    new_position = [0, 0]\n",
    "    \n",
    "    if letter == 'N':\n",
    "        new_position[0] = curnt_waypoint[0]\n",
    "        new_position[1] = curnt_waypoint[1] + number\n",
    "    elif letter == 'E':\n",
    "        new_position[1] = curnt_waypoint[1]\n",
    "        new_position[0] = curnt_waypoint[0] + number\n",
    "    elif letter == 'S':\n",
    "        new_position[0] = curnt_waypoint[0]\n",
    "        new_position[1] = curnt_waypoint[1] - number\n",
    "    elif letter == 'W':\n",
    "        new_position[1] = curnt_waypoint[1]\n",
    "        new_position[0] = curnt_waypoint[0] - number\n",
    "    elif letter == 'R':\n",
    "        if number == 90:\n",
    "            new_position[0] = curnt_waypoint[1]\n",
    "            new_position[1] = -1 * curnt_waypoint[0]\n",
    "        if number == 180:\n",
    "            new_position[0] = -1 * curnt_waypoint[0]\n",
    "            new_position[1] = -1 * curnt_waypoint[1]\n",
    "        if number == 270:\n",
    "            new_position[0] = -1 * curnt_waypoint[1]\n",
    "            new_position[1] = curnt_waypoint[0]\n",
    "    elif letter == 'L':\n",
    "        if number == 90:\n",
    "            new_position[0] = -1 * curnt_waypoint[1]\n",
    "            new_position[1] = curnt_waypoint[0]\n",
    "        if number == 180:\n",
    "            new_position[0] = -1 * curnt_waypoint[0]\n",
    "            new_position[1] = -1 * curnt_waypoint[1]\n",
    "        if number == 270:\n",
    "            new_position[0] = curnt_waypoint[1]\n",
    "            new_position[1] = -1 * curnt_waypoint[0]        \n",
    "            \n",
    "    return new_position"
   ]
  },
  {
   "cell_type": "markdown",
   "metadata": {},
   "source": [
    "# Part two Test"
   ]
  },
  {
   "cell_type": "code",
   "execution_count": 40,
   "metadata": {},
   "outputs": [
    {
     "name": "stdout",
     "output_type": "stream",
     "text": [
      "You have traveled 214 units East.\n",
      "You have traveled 72 units South.\n",
      "The answer to part 1 is 286.\n"
     ]
    }
   ],
   "source": [
    "boat_position = [0, 0]\n",
    "waypoint_pos = [10, 1]\n",
    "chars_move_waypoint = ['N', 'E', 'S', 'W', 'L', 'R']\n",
    "\n",
    "for command in test_data:\n",
    "    letter = command[0]\n",
    "    number = int(command[1:])\n",
    "    \n",
    "    if letter in chars_move_waypoint:\n",
    "        waypoint_pos = move_waypoint(command, waypoint_pos)\n",
    "        \n",
    "    if letter == 'F':\n",
    "        total_position_change = [0, 0]\n",
    "        total_position_change[0] = number * waypoint_pos[0]\n",
    "        total_position_change[1] = number * waypoint_pos[1]\n",
    "        \n",
    "        boat_position[0] += total_position_change[0]\n",
    "        boat_position[1] += total_position_change[1]\n",
    "        \n",
    "if boat_position[0] < 0:\n",
    "    print(f'You have traveled {abs(boat_position[0])} units West.')\n",
    "elif boat_position[0] == 0:\n",
    "    print('You have not changed your east/west postion.')\n",
    "else:\n",
    "    print(f'You have traveled {abs(boat_position[0])} units East.')\n",
    "\n",
    "if boat_position[1] < 0:\n",
    "    print(f'You have traveled {abs(boat_position[1])} units South.')\n",
    "elif boat_position[1] == 0:\n",
    "    print('You have not changed your north/south position.')\n",
    "else: \n",
    "    print(f'You have traveled {abs(boat_position[1])} units North.')\n",
    "\n",
    "answer = abs(boat_position[0]) + abs(boat_position[1])\n",
    "print(f'The answer to part 1 is {answer}.')       "
   ]
  },
  {
   "cell_type": "markdown",
   "metadata": {},
   "source": [
    "# Part two Actual  "
   ]
  },
  {
   "cell_type": "code",
   "execution_count": 46,
   "metadata": {},
   "outputs": [
    {
     "name": "stdout",
     "output_type": "stream",
     "text": [
      "You have traveled 1078 units West.\n",
      "You have traveled 11307 units South.\n",
      "The answer to part 2 is 12385.\n"
     ]
    }
   ],
   "source": [
    "boat_position = [0, 0]\n",
    "waypoint_pos = [10, 1]\n",
    "chars_move_waypoint = ['N', 'E', 'S', 'W', 'L', 'R']\n",
    "\n",
    "for command in data:\n",
    "    letter = command[0]\n",
    "    number = int(command[1:])\n",
    "    \n",
    "    if letter in chars_move_waypoint:\n",
    "        waypoint_pos = move_waypoint(command, waypoint_pos)\n",
    "        \n",
    "    if letter == 'F':\n",
    "        total_position_change = [0, 0]\n",
    "        total_position_change[0] = number * waypoint_pos[0]\n",
    "        total_position_change[1] = number * waypoint_pos[1]\n",
    "        \n",
    "        boat_position[0] += total_position_change[0]\n",
    "        boat_position[1] += total_position_change[1]\n",
    "    \n",
    "if boat_position[0] < 0:\n",
    "    print(f'You have traveled {abs(boat_position[0])} units West.')\n",
    "elif boat_position[0] == 0:\n",
    "    print('You have not changed your east/west postion.')\n",
    "else:\n",
    "    print(f'You have traveled {abs(boat_position[0])} units East.')\n",
    "\n",
    "if boat_position[1] < 0:\n",
    "    print(f'You have traveled {abs(boat_position[1])} units South.')\n",
    "elif boat_position[1] == 0:\n",
    "    print('You have not changed your north/south position.')\n",
    "else: \n",
    "    print(f'You have traveled {abs(boat_position[1])} units North.')\n",
    "\n",
    "answer = abs(boat_position[0]) + abs(boat_position[1])\n",
    "print(f'The answer to part 2 is {answer}.')       "
   ]
  },
  {
   "cell_type": "code",
   "execution_count": null,
   "metadata": {},
   "outputs": [],
   "source": []
  }
 ],
 "metadata": {
  "kernelspec": {
   "display_name": "Python 3",
   "language": "python",
   "name": "python3"
  },
  "language_info": {
   "codemirror_mode": {
    "name": "ipython",
    "version": 3
   },
   "file_extension": ".py",
   "mimetype": "text/x-python",
   "name": "python",
   "nbconvert_exporter": "python",
   "pygments_lexer": "ipython3",
   "version": "3.8.3"
  }
 },
 "nbformat": 4,
 "nbformat_minor": 4
}
