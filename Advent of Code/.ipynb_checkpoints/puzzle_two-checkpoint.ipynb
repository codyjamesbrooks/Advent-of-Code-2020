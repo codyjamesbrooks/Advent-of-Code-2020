{
 "cells": [
  {
   "cell_type": "code",
   "execution_count": 1,
   "metadata": {},
   "outputs": [],
   "source": [
    "filename = 'puzzle_two.txt'\n",
    "with open(filename) as f:\n",
    "\tdata = f.readlines()\n",
    "\n",
    "for counter in range(len(data)):\n",
    "\tdata[counter] = data[counter].rstrip('\\n')"
   ]
  },
  {
   "cell_type": "markdown",
   "metadata": {},
   "source": [
    "# Part One Solution"
   ]
  },
  {
   "cell_type": "code",
   "execution_count": 3,
   "metadata": {},
   "outputs": [
    {
     "name": "stdout",
     "output_type": "stream",
     "text": [
      "The answer to part one is 493.\n"
     ]
    }
   ],
   "source": [
    "def puzzle_two_part_one(data: list) -> int:\n",
    "    good_pass = 0\n",
    "    for pswd in data:\n",
    "        count = 0\n",
    "        char = pswd.split(' ')[1][0]\n",
    "        min_char = int(pswd.split(' ')[0].split('-')[0])\n",
    "        max_char = int(pswd.split(' ')[0].split('-')[1])\n",
    "        for letter in pswd.split(' ')[2]:\n",
    "            if letter == char:\n",
    "                count += 1\n",
    "        if min_char <= count <= max_char:\n",
    "            good_pass += 1\n",
    "    return good_pass\n",
    "print(f'The answer to part one is {puzzle_two_part_one(data)}.')"
   ]
  },
  {
   "cell_type": "markdown",
   "metadata": {},
   "source": [
    "# Part Two Solution"
   ]
  },
  {
   "cell_type": "code",
   "execution_count": 4,
   "metadata": {},
   "outputs": [
    {
     "name": "stdout",
     "output_type": "stream",
     "text": [
      "The answer to part two is 593.\n"
     ]
    }
   ],
   "source": [
    "def puzzle_two_part_two(data: list) -> int:\n",
    "    good_pass = 0\n",
    "    for pswd in data: \n",
    "        char = pswd.split(' ')[1][0]\n",
    "        left_index = int(pswd.split(' ')[0].split('-')[0]) - 1\n",
    "        right_index = int(pswd.split(' ')[0].split('-')[1]) - 1\n",
    "        password = pswd.split(' ')[2]\n",
    "        if password[left_index] == char and password[right_index] == char:\n",
    "            continue\n",
    "        elif password[left_index] == char or password[right_index] == char:\n",
    "            good_pass += 1\n",
    "    return good_pass\n",
    "print(f'The answer to part two is {puzzle_two_part_two(data)}.')"
   ]
  }
 ],
 "metadata": {
  "kernelspec": {
   "display_name": "Python 3",
   "language": "python",
   "name": "python3"
  },
  "language_info": {
   "codemirror_mode": {
    "name": "ipython",
    "version": 3
   },
   "file_extension": ".py",
   "mimetype": "text/x-python",
   "name": "python",
   "nbconvert_exporter": "python",
   "pygments_lexer": "ipython3",
   "version": "3.8.3"
  }
 },
 "nbformat": 4,
 "nbformat_minor": 4
}
