{
 "cells": [
  {
   "cell_type": "code",
   "execution_count": 29,
   "metadata": {},
   "outputs": [],
   "source": [
    "filename = 'puzzle_nine.txt'\n",
    "with open(filename) as f:\n",
    "    data = f.readlines()\n",
    "for counter in range(len(data)):\n",
    "    data[counter] = int(data[counter].rstrip('\\n'))"
   ]
  },
  {
   "cell_type": "code",
   "execution_count": 30,
   "metadata": {},
   "outputs": [
    {
     "name": "stdout",
     "output_type": "stream",
     "text": [
      "144381670 is not a valid number.\n",
      "It's index is 562.\n"
     ]
    }
   ],
   "source": [
    "counter = 25\n",
    "\n",
    "while counter < len(data):\n",
    "    \n",
    "    for i, number in enumerate(data[counter-25:counter]):\n",
    "        if number >= data[counter]:\n",
    "            continue\n",
    "        else:\n",
    "            remainder = data[counter] - number\n",
    "\n",
    "        if remainder in data[counter -25 + i:counter]:\n",
    "            counter += 1\n",
    "            break\n",
    "\n",
    "    else:\n",
    "        print(f'{data[counter]} is not a valid number.')\n",
    "        print(f\"It's index is {counter}.\")\n",
    "        break"
   ]
  },
  {
   "cell_type": "code",
   "execution_count": 32,
   "metadata": {},
   "outputs": [
    {
     "name": "stdout",
     "output_type": "stream",
     "text": [
      "Starting index is 451.\n",
      "Ending index is 468\n",
      "Smallest number is 5779902.\n",
      "Largest number is 14752667.\n",
      "Problem answer is 20532569.\n"
     ]
    }
   ],
   "source": [
    "target = data[562]\n",
    "counter = 0\n",
    "flag = True\n",
    "\n",
    "while counter < len(data) and flag == True:\n",
    "    i = 1\n",
    "    while sum(data[counter:counter+i]) <= target:\n",
    "        \n",
    "        if sum(data[counter:counter+i]) == target and len(data[counter:counter+i])>1:\n",
    "            print(f'Starting index is {counter}.')\n",
    "            print(f'Ending index is {counter + i}')\n",
    "            smallest = min(data[counter:counter+i])\n",
    "            largest = max(data[counter:counter+i])\n",
    "            print(f'Smallest number is {min(data[counter:counter+i])}.')\n",
    "            print(f'Largest number is {max(data[counter:counter+i])}.')\n",
    "            print(f'Problem answer is {smallest + largest}.')\n",
    "                  \n",
    "            Flag = False\n",
    "            break\n",
    "                  \n",
    "        if counter + i > len(data):\n",
    "            break\n",
    "        else:\n",
    "            i += 1\n",
    "                  \n",
    "    counter += 1"
   ]
  },
  {
   "cell_type": "code",
   "execution_count": null,
   "metadata": {},
   "outputs": [],
   "source": []
  }
 ],
 "metadata": {
  "kernelspec": {
   "display_name": "Python 3",
   "language": "python",
   "name": "python3"
  },
  "language_info": {
   "codemirror_mode": {
    "name": "ipython",
    "version": 3
   },
   "file_extension": ".py",
   "mimetype": "text/x-python",
   "name": "python",
   "nbconvert_exporter": "python",
   "pygments_lexer": "ipython3",
   "version": "3.8.3"
  }
 },
 "nbformat": 4,
 "nbformat_minor": 4
}
