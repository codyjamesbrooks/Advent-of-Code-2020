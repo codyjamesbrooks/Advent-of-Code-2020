{
 "cells": [
  {
   "cell_type": "code",
   "execution_count": 6,
   "metadata": {},
   "outputs": [],
   "source": [
    "%load_ext line_profiler"
   ]
  },
  {
   "cell_type": "code",
   "execution_count": 1,
   "metadata": {},
   "outputs": [],
   "source": [
    "filename = 'puzzle_14.txt'\n",
    "with open(filename) as f:\n",
    "    data = f.readlines()\n",
    "masks = []\n",
    "actions = []\n",
    "temp = []\n",
    "for counter in range(len(data)):\n",
    "    if data[counter][:4] == 'mask':\n",
    "        masks.append(data[counter].rstrip('\\n'))\n",
    "        if len(temp) >= 1:\n",
    "            actions.append(temp)\n",
    "            temp = []\n",
    "    if data[counter][:3] == 'mem':\n",
    "        temp.append(data[counter].rstrip('\\n'))\n",
    "    if counter == len(data) - 1:\n",
    "        actions.append(temp)"
   ]
  },
  {
   "cell_type": "code",
   "execution_count": 2,
   "metadata": {},
   "outputs": [],
   "source": [
    "test_mask = 'mask = XXXXXXXXXXXXXXXXXXXXXXXXXXXXX1XXXX0X'\n",
    "test_actions = ['mem[8] = 11', 'mem[7] = 101', 'mem[8] = 0']"
   ]
  },
  {
   "cell_type": "code",
   "execution_count": 3,
   "metadata": {},
   "outputs": [],
   "source": [
    "get_bin = lambda x, n: format(x, 'b').zfill(n)\n",
    "\n",
    "def get_int(n):\n",
    "    a = 0\n",
    "    counter = 0\n",
    "    for x in range(35, -1, -1):\n",
    "        if int(n[counter]) != 0:\n",
    "            a += 2 ** x\n",
    "        counter += 1\n",
    "    return a"
   ]
  },
  {
   "cell_type": "markdown",
   "metadata": {},
   "source": [
    "# Test Case Solution"
   ]
  },
  {
   "cell_type": "code",
   "execution_count": 4,
   "metadata": {},
   "outputs": [
    {
     "name": "stdout",
     "output_type": "stream",
     "text": [
      "165\n"
     ]
    }
   ],
   "source": [
    "mask = test_mask.split(' ')[2]\n",
    "test_answer = {}\n",
    "for counter in range(len(test_actions)):\n",
    "    mem_location = int(test_actions[counter][4: test_actions[counter].index(']')])\n",
    "    stor = get_bin(int(test_actions[counter].split(' ')[2]), 36)\n",
    "    answer = \"\"\n",
    "    for x in range(0,36):\n",
    "        if mask[x] == 'X':\n",
    "            answer += stor[x]\n",
    "        elif mask[x] == stor[x]:\n",
    "            answer += mask[x]\n",
    "        elif mask[x] != stor[x]:\n",
    "            answer += mask[x]\n",
    "    test_answer[mem_location] = answer\n",
    "\n",
    "test_part1 = 0\n",
    "for key,value in test_answer.items():\n",
    "    test_part1 += get_int(value)\n",
    "print(test_part1)\n",
    "\n",
    "    "
   ]
  },
  {
   "cell_type": "markdown",
   "metadata": {},
   "source": [
    "# Part One Solution"
   ]
  },
  {
   "cell_type": "code",
   "execution_count": 8,
   "metadata": {},
   "outputs": [],
   "source": [
    "def solve_part_one(masks=masks, actions=actions):\n",
    "    answers = {}\n",
    "    for counter in range(len(masks)):\n",
    "        mask = masks[counter].split(' ')[2]\n",
    "        for item in actions[counter]:\n",
    "            mem_location = int(item[4: item.index(']')])\n",
    "            stor = get_bin(int(item.split(' ')[2]), 36)\n",
    "            answer = \"\"\n",
    "            for x in range(0, 36):\n",
    "                if mask[x] == 'X':\n",
    "                    answer += stor[x]\n",
    "                elif mask[x] == stor[x]:\n",
    "                    answer += stor[x]\n",
    "                elif mask[x] != stor[x]:\n",
    "                    answer += mask[x]\n",
    "            answers[mem_location] = get_int(answer)\n",
    "\n",
    "    part_1 = 0\n",
    "    for key, value in answers.items():\n",
    "        part_1 += value\n",
    "    print(f'The solution to part one is {part_1}.')"
   ]
  },
  {
   "cell_type": "code",
   "execution_count": 11,
   "metadata": {},
   "outputs": [
    {
     "name": "stdout",
     "output_type": "stream",
     "text": [
      "The solution to part one is 12135523360904.\n",
      " "
     ]
    }
   ],
   "source": [
    "%prun solve_part_one()"
   ]
  },
  {
   "cell_type": "code",
   "execution_count": null,
   "metadata": {},
   "outputs": [],
   "source": []
  }
 ],
 "metadata": {
  "kernelspec": {
   "display_name": "Python 3",
   "language": "python",
   "name": "python3"
  },
  "language_info": {
   "codemirror_mode": {
    "name": "ipython",
    "version": 3
   },
   "file_extension": ".py",
   "mimetype": "text/x-python",
   "name": "python",
   "nbconvert_exporter": "python",
   "pygments_lexer": "ipython3",
   "version": "3.8.3"
  }
 },
 "nbformat": 4,
 "nbformat_minor": 4
}
