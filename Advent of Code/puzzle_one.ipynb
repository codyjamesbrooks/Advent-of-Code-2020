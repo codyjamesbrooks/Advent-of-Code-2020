{
 "cells": [
  {
   "cell_type": "code",
   "execution_count": 1,
   "metadata": {},
   "outputs": [],
   "source": [
    "filename = 'puzzle_one.txt'\n",
    "with open(filename) as f:\n",
    "    data = f.readlines()\n",
    "for counter in range(len(data)):\n",
    "    data[counter] = int(data[counter].rstrip('\\n'))"
   ]
  },
  {
   "cell_type": "markdown",
   "metadata": {},
   "source": [
    "# Part One Solution"
   ]
  },
  {
   "cell_type": "code",
   "execution_count": 2,
   "metadata": {},
   "outputs": [
    {
     "name": "stdout",
     "output_type": "stream",
     "text": [
      "The answer to part 1 is 138379.\n"
     ]
    }
   ],
   "source": [
    "def puzzle_one_part_one(data: list) -> int:\n",
    "    for number in data:\n",
    "        if (2020-number) in data:\n",
    "            return (2020-number) * number\n",
    "print(f'The answer to part 1 is {puzzle_one_part_one(data)}.')"
   ]
  },
  {
   "cell_type": "markdown",
   "metadata": {},
   "source": [
    "# Part Two Solution"
   ]
  },
  {
   "cell_type": "code",
   "execution_count": 4,
   "metadata": {},
   "outputs": [
    {
     "name": "stdout",
     "output_type": "stream",
     "text": [
      "The answer to part 2 is 85491920.\n"
     ]
    }
   ],
   "source": [
    "def puzzle_one_part_two(data: list) -> int:\n",
    "    for number1 in data: \n",
    "        for number2 in data:\n",
    "            if (2020 - number2 - number1) in data:\n",
    "                return (2020 - number2 - number1) * number1 * number2\n",
    "print(f'The answer to part 2 is {puzzle_one_part_two(data)}.')"
   ]
  }
 ],
 "metadata": {
  "kernelspec": {
   "display_name": "Python 3",
   "language": "python",
   "name": "python3"
  },
  "language_info": {
   "codemirror_mode": {
    "name": "ipython",
    "version": 3
   },
   "file_extension": ".py",
   "mimetype": "text/x-python",
   "name": "python",
   "nbconvert_exporter": "python",
   "pygments_lexer": "ipython3",
   "version": "3.8.3"
  }
 },
 "nbformat": 4,
 "nbformat_minor": 4
}
