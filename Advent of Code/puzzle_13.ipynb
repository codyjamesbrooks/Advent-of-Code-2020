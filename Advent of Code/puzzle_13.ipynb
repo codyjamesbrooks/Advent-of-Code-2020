{
 "cells": [
  {
   "cell_type": "code",
   "execution_count": 15,
   "metadata": {},
   "outputs": [],
   "source": [
    "import math\n",
    "filename = 'puzzle_13.txt'\n",
    "with open(filename) as f:\n",
    "    data = f.readlines()\n",
    "earliest = int(data[0].rstrip('\\n'))\n",
    "busses = []\n",
    "for bus in data[1].split(','):\n",
    "    busses.append(bus) "
   ]
  },
  {
   "cell_type": "code",
   "execution_count": 9,
   "metadata": {},
   "outputs": [],
   "source": [
    "test_earliest = 939\n",
    "test_busses = ['7', '13', 'x', 'x', '59', 'x', '31', '19']"
   ]
  },
  {
   "cell_type": "markdown",
   "metadata": {},
   "source": [
    "# Part One Test Case"
   ]
  },
  {
   "cell_type": "code",
   "execution_count": 10,
   "metadata": {
    "scrolled": true
   },
   "outputs": [
    {
     "name": "stdout",
     "output_type": "stream",
     "text": [
      "You will need to take the number 59 bus.\n",
      "You will need to wait 5 minutes.\n",
      "The answer to part one is 295.\n"
     ]
    }
   ],
   "source": [
    "set_busses = set(int(bus) for bus in test_busses if bus != 'x')\n",
    "correct_busid = None\n",
    "min_wait = max(set_busses)\n",
    "\n",
    "for bus in set_busses:\n",
    "    wait_time = math.ceil(test_earliest / bus) * bus - test_earliest\n",
    "    if wait_time <= min_wait:\n",
    "        correct_busid = bus\n",
    "        min_wait = min(min_wait, wait_time)\n",
    "    \n",
    "print(f'You will need to take the number {correct_busid} bus.')\n",
    "print(f'You will need to wait {min_wait} minutes.')\n",
    "print(f'The answer to part one is {correct_busid * min_wait}.') "
   ]
  },
  {
   "cell_type": "markdown",
   "metadata": {},
   "source": [
    "# Part One Solution"
   ]
  },
  {
   "cell_type": "code",
   "execution_count": 17,
   "metadata": {},
   "outputs": [
    {
     "name": "stdout",
     "output_type": "stream",
     "text": [
      "You will need to take the number 821 bus.\n",
      "You will need to wait 8 minutes.\n",
      "The answer to part one is 6568.\n"
     ]
    }
   ],
   "source": [
    "set_busses = set(int(bus) for bus in busses if bus != 'x')\n",
    "correct_busid = None\n",
    "min_wait = max(set_busses)\n",
    "\n",
    "for bus in set_busses:\n",
    "    wait_time = math.ceil(earliest / bus) * bus - earliest\n",
    "    if wait_time <= min_wait:\n",
    "        correct_busid = bus\n",
    "        min_wait = min(min_wait, wait_time)\n",
    "    \n",
    "print(f'You will need to take the number {correct_busid} bus.')\n",
    "print(f'You will need to wait {min_wait} minutes.')\n",
    "print(f'The answer to part one is {correct_busid * min_wait}.') "
   ]
  },
  {
   "cell_type": "markdown",
   "metadata": {},
   "source": [
    "# Part Two Test Case"
   ]
  },
  {
   "cell_type": "code",
   "execution_count": 29,
   "metadata": {
    "scrolled": true
   },
   "outputs": [
    {
     "data": {
      "text/plain": [
       "{'7': 0, '13': 1, '59': 4, '31': 6, '19': 7}"
      ]
     },
     "execution_count": 29,
     "metadata": {},
     "output_type": "execute_result"
    }
   ],
   "source": [
    "bus_waits = {}\n",
    "for x,bus in enumerate(test_busses):\n",
    "    if bus == 'x':\n",
    "        continue\n",
    "    bus_waits[bus] = x\n",
    "bus_waits"
   ]
  },
  {
   "cell_type": "code",
   "execution_count": 27,
   "metadata": {},
   "outputs": [
    {
     "name": "stdout",
     "output_type": "stream",
     "text": [
      "7, must arrive 0 minutes after.\n",
      "13, must arrive 1 minutes after.\n",
      "\n",
      "\n",
      "7, must arrive 0 minutes after.\n",
      "13, must arrive 1 minutes after.\n",
      "59, must arrive 4 minutes after.\n",
      "\n",
      "\n",
      "7, must arrive 0 minutes after.\n",
      "13, must arrive 1 minutes after.\n",
      "59, must arrive 4 minutes after.\n",
      "31, must arrive 6 minutes after.\n",
      "\n",
      "\n",
      "7, must arrive 0 minutes after.\n",
      "13, must arrive 1 minutes after.\n",
      "59, must arrive 4 minutes after.\n",
      "31, must arrive 6 minutes after.\n",
      "19, must arrive 7 minutes after.\n",
      "\n",
      "\n"
     ]
    }
   ],
   "source": [
    "time_stamp =  7\n",
    "counter = 1\n",
    "\n",
    "while counter < len(list(bus_waits)):\n",
    "    for bus in list(bus_waits)[0:counter +1]:\n",
    "        print(f'{bus}, must arrive {bus_waits[bus]} minutes after.')\n",
    "    print('\\n')\n",
    "    counter += 1\n"
   ]
  },
  {
   "cell_type": "code",
   "execution_count": 30,
   "metadata": {},
   "outputs": [
    {
     "ename": "SyntaxError",
     "evalue": "unexpected EOF while parsing (<ipython-input-30-eb5478888ade>, line 5)",
     "output_type": "error",
     "traceback": [
      "\u001b[1;36m  File \u001b[1;32m\"<ipython-input-30-eb5478888ade>\"\u001b[1;36m, line \u001b[1;32m5\u001b[0m\n\u001b[1;33m    for bus in list(bus_waits)[0: counter +1]:\u001b[0m\n\u001b[1;37m                                              ^\u001b[0m\n\u001b[1;31mSyntaxError\u001b[0m\u001b[1;31m:\u001b[0m unexpected EOF while parsing\n"
     ]
    }
   ],
   "source": [
    "time_stamp = max(set(int(bus) for bus in test_busses if bus != 'x'))\n",
    "counter = 1\n",
    "flag = True\n",
    "inner_flag = True\n",
    "while flag:\n",
    "    inner_flag = True\n",
    "    while counter < len(list(bus_waits)):\n",
    "        while inner_flag:\n",
    "            for bus in list(bus_waits)[0: counter +1]:\n",
    "                wait_time = math.celi(time_stamp / int(bus)) * int(bus) - time_stamp\n",
    "                if wait_time != bus_waits[bus]:\n",
    "                    time_stamp += 7\n",
    "            "
   ]
  },
  {
   "cell_type": "code",
   "execution_count": 49,
   "metadata": {},
   "outputs": [
    {
     "data": {
      "text/plain": [
       "11"
      ]
     },
     "execution_count": 49,
     "metadata": {},
     "output_type": "execute_result"
    }
   ],
   "source": [
    "x = 13\n",
    "3417 % x"
   ]
  },
  {
   "cell_type": "code",
   "execution_count": null,
   "metadata": {},
   "outputs": [],
   "source": []
  }
 ],
 "metadata": {
  "kernelspec": {
   "display_name": "Python 3",
   "language": "python",
   "name": "python3"
  },
  "language_info": {
   "codemirror_mode": {
    "name": "ipython",
    "version": 3
   },
   "file_extension": ".py",
   "mimetype": "text/x-python",
   "name": "python",
   "nbconvert_exporter": "python",
   "pygments_lexer": "ipython3",
   "version": "3.8.3"
  }
 },
 "nbformat": 4,
 "nbformat_minor": 4
}
